{
 "cells": [
  {
   "cell_type": "code",
   "execution_count": 1,
   "metadata": {},
   "outputs": [
    {
     "name": "stdout",
     "output_type": "stream",
     "text": [
      "[['', 'year', 'month', 'intent', 'police', 'sex', 'age', 'race', 'hispanic', 'place', 'education'], ['1', '2012', '01', 'Suicide', '0', 'M', '34', 'Asian/Pacific Islander', '100', 'Home', '4'], ['2', '2012', '01', 'Suicide', '0', 'F', '21', 'White', '100', 'Street', '3'], ['3', '2012', '01', 'Suicide', '0', 'M', '60', 'White', '100', 'Other specified', '4'], ['4', '2012', '02', 'Suicide', '0', 'M', '64', 'White', '100', 'Home', '4']]\n"
     ]
    }
   ],
   "source": [
    "import csv\n",
    "f = open(\"guns.csv\", \"r\")\n",
    "data = list(csv.reader(f))\n",
    "print(data[:5])"
   ]
  },
  {
   "cell_type": "code",
   "execution_count": 2,
   "metadata": {},
   "outputs": [
    {
     "name": "stdout",
     "output_type": "stream",
     "text": [
      "['', 'year', 'month', 'intent', 'police', 'sex', 'age', 'race', 'hispanic', 'place', 'education']\n"
     ]
    }
   ],
   "source": [
    "headers = data[0]\n",
    "data = data[1:]\n",
    "print(headers)"
   ]
  },
  {
   "cell_type": "code",
   "execution_count": 3,
   "metadata": {},
   "outputs": [
    {
     "data": {
      "text/plain": [
       "{'2012': 33563, '2013': 33636, '2014': 33599}"
      ]
     },
     "execution_count": 3,
     "metadata": {},
     "output_type": "execute_result"
    }
   ],
   "source": [
    "years = [variable[1] for variable in data]\n",
    "\n",
    "year_counts = {}\n",
    "for variable in years:\n",
    "    if variable in year_counts:\n",
    "        year_counts[variable] += 1\n",
    "    else:\n",
    "        year_counts[variable] = 1\n",
    "        \n",
    "year_counts        \n"
   ]
  },
  {
   "cell_type": "code",
   "execution_count": 4,
   "metadata": {},
   "outputs": [
    {
     "data": {
      "text/plain": [
       "[datetime.datetime(2012, 1, 1, 0, 0),\n",
       " datetime.datetime(2012, 1, 1, 0, 0),\n",
       " datetime.datetime(2012, 1, 1, 0, 0),\n",
       " datetime.datetime(2012, 2, 1, 0, 0),\n",
       " datetime.datetime(2012, 2, 1, 0, 0)]"
      ]
     },
     "execution_count": 4,
     "metadata": {},
     "output_type": "execute_result"
    }
   ],
   "source": [
    "import datetime\n",
    "dates = [datetime.datetime(year = int(variable[1]), month = int(variable[2]), day = 1) for variable in data]\n",
    "\n",
    "dates[:5]"
   ]
  },
  {
   "cell_type": "code",
   "execution_count": 5,
   "metadata": {},
   "outputs": [
    {
     "data": {
      "text/plain": [
       "{datetime.datetime(2012, 1, 1, 0, 0): 2758,\n",
       " datetime.datetime(2012, 2, 1, 0, 0): 2357,\n",
       " datetime.datetime(2012, 3, 1, 0, 0): 2743,\n",
       " datetime.datetime(2012, 4, 1, 0, 0): 2795,\n",
       " datetime.datetime(2012, 5, 1, 0, 0): 2999,\n",
       " datetime.datetime(2012, 6, 1, 0, 0): 2826,\n",
       " datetime.datetime(2012, 7, 1, 0, 0): 3026,\n",
       " datetime.datetime(2012, 8, 1, 0, 0): 2954,\n",
       " datetime.datetime(2012, 9, 1, 0, 0): 2852,\n",
       " datetime.datetime(2012, 10, 1, 0, 0): 2733,\n",
       " datetime.datetime(2012, 11, 1, 0, 0): 2729,\n",
       " datetime.datetime(2012, 12, 1, 0, 0): 2791,\n",
       " datetime.datetime(2013, 1, 1, 0, 0): 2864,\n",
       " datetime.datetime(2013, 2, 1, 0, 0): 2375,\n",
       " datetime.datetime(2013, 3, 1, 0, 0): 2862,\n",
       " datetime.datetime(2013, 4, 1, 0, 0): 2798,\n",
       " datetime.datetime(2013, 5, 1, 0, 0): 2806,\n",
       " datetime.datetime(2013, 6, 1, 0, 0): 2920,\n",
       " datetime.datetime(2013, 7, 1, 0, 0): 3079,\n",
       " datetime.datetime(2013, 8, 1, 0, 0): 2859,\n",
       " datetime.datetime(2013, 9, 1, 0, 0): 2742,\n",
       " datetime.datetime(2013, 10, 1, 0, 0): 2808,\n",
       " datetime.datetime(2013, 11, 1, 0, 0): 2758,\n",
       " datetime.datetime(2013, 12, 1, 0, 0): 2765,\n",
       " datetime.datetime(2014, 1, 1, 0, 0): 2651,\n",
       " datetime.datetime(2014, 2, 1, 0, 0): 2361,\n",
       " datetime.datetime(2014, 3, 1, 0, 0): 2684,\n",
       " datetime.datetime(2014, 4, 1, 0, 0): 2862,\n",
       " datetime.datetime(2014, 5, 1, 0, 0): 2864,\n",
       " datetime.datetime(2014, 6, 1, 0, 0): 2931,\n",
       " datetime.datetime(2014, 7, 1, 0, 0): 2884,\n",
       " datetime.datetime(2014, 8, 1, 0, 0): 2970,\n",
       " datetime.datetime(2014, 9, 1, 0, 0): 2914,\n",
       " datetime.datetime(2014, 10, 1, 0, 0): 2865,\n",
       " datetime.datetime(2014, 11, 1, 0, 0): 2756,\n",
       " datetime.datetime(2014, 12, 1, 0, 0): 2857}"
      ]
     },
     "execution_count": 5,
     "metadata": {},
     "output_type": "execute_result"
    }
   ],
   "source": [
    "date_counts= {}\n",
    "for variable in dates:\n",
    "    if variable in date_counts:\n",
    "        date_counts[variable] += 1\n",
    "    else:\n",
    "        date_counts[variable] = 1\n",
    "date_counts     "
   ]
  },
  {
   "cell_type": "code",
   "execution_count": 6,
   "metadata": {},
   "outputs": [
    {
     "data": {
      "text/plain": [
       "{'Asian/Pacific Islander': 1326,\n",
       " 'Black': 23296,\n",
       " 'Hispanic': 9022,\n",
       " 'Native American/Native Alaskan': 917,\n",
       " 'White': 66237}"
      ]
     },
     "execution_count": 6,
     "metadata": {},
     "output_type": "execute_result"
    }
   ],
   "source": [
    "sex_counts = {}\n",
    "race_counts = {}\n",
    "sex = [variable[5] for variable in data]\n",
    "race = [variable[7] for variable in data]\n",
    "\n",
    "for variable in sex:\n",
    "    if variable in sex_counts:\n",
    "        sex_counts[variable] += 1\n",
    "    else:\n",
    "        sex_counts[variable] = 1\n",
    "\n",
    "for row in race:\n",
    "    if row in race_counts:\n",
    "        race_counts[row] += 1\n",
    "    else:\n",
    "        race_counts[row] = 1\n",
    "\n",
    "race_counts\n",
    "    "
   ]
  },
  {
   "cell_type": "markdown",
   "metadata": {},
   "source": [
    "White and black deaths seem to be a lot. If we compare the percentages of white/black deaths in this sample, to percentage of white/black population in US in general, we might get a better idea ? Further examination can be white males vs white females vs black males vs black females"
   ]
  },
  {
   "cell_type": "code",
   "execution_count": 7,
   "metadata": {},
   "outputs": [
    {
     "data": {
      "text/plain": [
       "[['Id',\n",
       "  'Year',\n",
       "  'Id',\n",
       "  'Sex',\n",
       "  'Id',\n",
       "  'Hispanic Origin',\n",
       "  'Id',\n",
       "  'Id2',\n",
       "  'Geography',\n",
       "  'Total',\n",
       "  'Race Alone - White',\n",
       "  'Race Alone - Hispanic',\n",
       "  'Race Alone - Black or African American',\n",
       "  'Race Alone - American Indian and Alaska Native',\n",
       "  'Race Alone - Asian',\n",
       "  'Race Alone - Native Hawaiian and Other Pacific Islander',\n",
       "  'Two or More Races'],\n",
       " ['cen42010',\n",
       "  'April 1, 2010 Census',\n",
       "  'totsex',\n",
       "  'Both Sexes',\n",
       "  'tothisp',\n",
       "  'Total',\n",
       "  '0100000US',\n",
       "  '',\n",
       "  'United States',\n",
       "  '308745538',\n",
       "  '197318956',\n",
       "  '44618105',\n",
       "  '40250635',\n",
       "  '3739506',\n",
       "  '15159516',\n",
       "  '674625',\n",
       "  '6984195']]"
      ]
     },
     "execution_count": 7,
     "metadata": {},
     "output_type": "execute_result"
    }
   ],
   "source": [
    " f1 = open(\"census.csv\", \"r\")\n",
    "census = list(csv.reader(f1))\n",
    "census"
   ]
  },
  {
   "cell_type": "code",
   "execution_count": 8,
   "metadata": {},
   "outputs": [],
   "source": [
    "mapping = {\n",
    "    \"Asian/Pacific Islander\": 15159516 + 674625,\n",
    "    \"Native American/Native Alaskan\": 3739506,\n",
    "    \"Black\": 40250635,\n",
    "    \"Hispanic\": 44618105,\n",
    "    \"White\": 197318956\n",
    "}\n"
   ]
  },
  {
   "cell_type": "code",
   "execution_count": 9,
   "metadata": {},
   "outputs": [
    {
     "data": {
      "text/plain": [
       "{'Asian/Pacific Islander': 8.374309664161762,\n",
       " 'Black': 57.8773477735196,\n",
       " 'Hispanic': 20.220491210910907,\n",
       " 'Native American/Native Alaskan': 24.521955573811088,\n",
       " 'White': 33.56849303419181}"
      ]
     },
     "execution_count": 9,
     "metadata": {},
     "output_type": "execute_result"
    }
   ],
   "source": [
    "rate_per_hundredk = {}\n",
    "\n",
    "for k,v in race_counts.items():\n",
    "    rate_per_hundredk[k] = (v/mapping[k])*100000\n",
    "\n",
    "rate_per_hundredk"
   ]
  },
  {
   "cell_type": "code",
   "execution_count": 10,
   "metadata": {},
   "outputs": [
    {
     "data": {
      "text/plain": [
       "{'Asian/Pacific Islander': 3.530346230970155,\n",
       " 'Black': 48.471284987180944,\n",
       " 'Hispanic': 12.627161104219914,\n",
       " 'Native American/Native Alaskan': 8.717729026240365,\n",
       " 'White': 4.6356417981453335}"
      ]
     },
     "execution_count": 10,
     "metadata": {},
     "output_type": "execute_result"
    }
   ],
   "source": [
    "intents = [row[3] for row in data]\n",
    "races = [row[7] for row in data]\n",
    "homicide_race_counts = {}\n",
    "\n",
    "for idx, value in enumerate(races):\n",
    "    if intents[idx] == \"Homicide\":\n",
    "        if value in homicide_race_counts:\n",
    "            homicide_race_counts[value] += 1\n",
    "        else:\n",
    "            homicide_race_counts[value] = 1\n",
    "homicide_race_counts\n",
    "\n",
    "homicide_race_rates = {}\n",
    "\n",
    "for k, v in homicide_race_counts.items():\n",
    "    homicide_race_rates[k] = (v/mapping[k])*100000\n",
    "homicide_race_rates\n",
    "\n"
   ]
  },
  {
   "cell_type": "markdown",
   "metadata": {},
   "source": [
    "\n",
    "\n",
    "It appears that homicide gun rates affect black and hispanics disproportionately than other races. \n",
    "\n",
    "Police intent can be further included\n",
    "Similar analysis for suicide and other intents can be done.\n",
    "month and homicide_rate\n",
    "gender_analysis"
   ]
  },
  {
   "cell_type": "code",
   "execution_count": 11,
   "metadata": {},
   "outputs": [
    {
     "name": "stdout",
     "output_type": "stream",
     "text": [
      "1402\n"
     ]
    },
    {
     "data": {
      "text/plain": [
       "3.985672049124403"
      ]
     },
     "execution_count": 11,
     "metadata": {},
     "output_type": "execute_result"
    }
   ],
   "source": [
    "homicide_count = 0\n",
    "for variable in intents:\n",
    "    if variable == \"Homicide\":\n",
    "        homicide_count +=1  \n",
    "\n",
    "police_homicide_count = 0\n",
    "for variable in data:\n",
    "    if variable[3] == \"Homicide\" and variable[4] == \"1\":\n",
    "        police_homicide_count += 1\n",
    "percent_police_homicide = float(police_homicide_count/homicide_count)*100\n",
    "print(police_homicide_count)\n",
    "percent_police_homicide     \n"
   ]
  },
  {
   "cell_type": "code",
   "execution_count": 12,
   "metadata": {},
   "outputs": [
    {
     "name": "stdout",
     "output_type": "stream",
     "text": [
      "{'White': 709, 'Black': 356, 'Asian/Pacific Islander': 30, 'Hispanic': 282, 'Native American/Native Alaskan': 25}\n"
     ]
    }
   ],
   "source": [
    "police_homicides = {}\n",
    "for variable in data:\n",
    "    race = variable[7]\n",
    "    if variable[3] == \"Homicide\" and variable[4] == \"1\":\n",
    "        if race in police_homicides:\n",
    "            police_homicides[race] += 1\n",
    "        else:\n",
    "            police_homicides[race] = 1\n",
    "print(police_homicides)            "
   ]
  },
  {
   "cell_type": "code",
   "execution_count": 13,
   "metadata": {},
   "outputs": [
    {
     "name": "stdout",
     "output_type": "stream",
     "text": [
      "{'White': 9147, 'Black': 19510, 'Asian/Pacific Islander': 559, 'Hispanic': 5634, 'Native American/Native Alaskan': 326}\n",
      "{'White': 7.751175248715427, 'Black': 1.8247052793439262, 'Asian/Pacific Islander': 5.366726296958855, 'Hispanic': 5.005324813631523, 'Native American/Native Alaskan': 7.668711656441718}\n"
     ]
    }
   ],
   "source": [
    "print(homicide_race_counts)\n",
    "police_homicide_rates = {}\n",
    "for k,v in homicide_race_counts.items():\n",
    "    police_homicide_rates[k] = (police_homicides[k]/v)*100\n",
    "print(police_homicide_rates)    "
   ]
  },
  {
   "cell_type": "markdown",
   "metadata": {},
   "source": [
    "## Notes\n",
    "I'm not sure if this is an entirely helpful analysis. Need to think about what this represents"
   ]
  },
  {
   "cell_type": "code",
   "execution_count": 19,
   "metadata": {},
   "outputs": [
    {
     "name": "stdout",
     "output_type": "stream",
     "text": [
      "{'05': 5506, '08': 5421, '01': 5220, '09': 5343, '04': 5438, '06': 5367, '07': 5514, '03': 5309, '02': 4732, '11': 5086, '12': 4983, '10': 5256}\n"
     ]
    }
   ],
   "source": [
    "month_homicides = {}\n",
    "for variable in data:\n",
    "    if variable[3] == \"Suicide\":\n",
    "        if variable[2] in month_homicides:\n",
    "            month_homicides[variable[2]] += 1\n",
    "        else:\n",
    "            month_homicides[variable[2]] = 1\n",
    "\n",
    "print(month_homicides)"
   ]
  },
  {
   "cell_type": "markdown",
   "metadata": {},
   "source": [
    "## Notes\n",
    "Looks like February is the least amount of suicides, followed by December. December makes sense I guess because of christmas and newyear. February on the other hand from a purely instinctive part of my brain makes sense becasue of valentines day but no causation or correlation, so..."
   ]
  },
  {
   "cell_type": "code",
   "execution_count": 17,
   "metadata": {
    "scrolled": true
   },
   "outputs": [
    {
     "data": {
      "text/plain": [
       "{'Farm',\n",
       " 'Home',\n",
       " 'Industrial/construction',\n",
       " 'NA',\n",
       " 'Other specified',\n",
       " 'Other unspecified',\n",
       " 'Residential institution',\n",
       " 'School/instiution',\n",
       " 'Sports',\n",
       " 'Street',\n",
       " 'Trade/service area'}"
      ]
     },
     "execution_count": 17,
     "metadata": {},
     "output_type": "execute_result"
    }
   ],
   "source": [
    "place = [row[9] for row in data]\n",
    "unique_place = set(place)\n",
    "unique_place"
   ]
  },
  {
   "cell_type": "code",
   "execution_count": 18,
   "metadata": {},
   "outputs": [
    {
     "data": {
      "text/plain": [
       "100798"
      ]
     },
     "execution_count": 18,
     "metadata": {},
     "output_type": "execute_result"
    }
   ],
   "source": [
    "len(data)"
   ]
  },
  {
   "cell_type": "code",
   "execution_count": null,
   "metadata": {
    "collapsed": true
   },
   "outputs": [],
   "source": []
  }
 ],
 "metadata": {
  "kernelspec": {
   "display_name": "Python 3",
   "language": "python",
   "name": "python3"
  },
  "language_info": {
   "codemirror_mode": {
    "name": "ipython",
    "version": 3
   },
   "file_extension": ".py",
   "mimetype": "text/x-python",
   "name": "python",
   "nbconvert_exporter": "python",
   "pygments_lexer": "ipython3",
   "version": "3.6.4"
  }
 },
 "nbformat": 4,
 "nbformat_minor": 1
}
